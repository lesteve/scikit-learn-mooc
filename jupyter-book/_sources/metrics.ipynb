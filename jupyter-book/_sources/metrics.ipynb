{
 "cells": [
  {
   "cell_type": "markdown",
   "metadata": {},
   "source": [
    "# Evaluation of your predictive model"
   ]
  },
  {
   "cell_type": "markdown",
   "metadata": {},
   "source": [
    "## Introduction\n",
    "Machine-learning models rely on optimizing an objective function, by seeking\n",
    "its minimum or maximum. It is important to understand that this objective\n",
    "function is usually decoupled from the evaluation metric that we want to\n",
    "optimize in practice. The objective function serves as a proxy to the\n",
    "evaluation metric.\n",
    "FIXME: add information about a loss function depending of the notebooks\n",
    "presented before the notebook about metrics.\n",
    "\n",
    "While other notebooks will give insights regarding algorithms and their\n",
    "associated objective functions, in this notebook we will focus on the\n",
    "metrics used to evaluate the performance of a predictive model.\n",
    "\n",
    "Selecting an evaluation metric will mainly depend on the model chosen to\n",
    "solve our datascience problem."
   ]
  },
  {
   "cell_type": "markdown",
   "metadata": {},
   "source": [
    "## Classification\n",
    "We can recall that in a classification setting, the target `y` is categorical\n",
    "rather than continuous. We will use the blood transfusion dataset that will\n",
    "be fetched from OpenML."
   ]
  },
  {
   "cell_type": "code",
   "execution_count": 1,
   "metadata": {},
   "outputs": [
    {
     "data": {
      "text/plain": [
       "Index(['not donated', 'donated'], dtype='object')"
      ]
     },
     "execution_count": 1,
     "metadata": {},
     "output_type": "execute_result"
    }
   ],
   "source": [
    "import pandas as pd\n",
    "from sklearn.datasets import fetch_openml\n",
    "\n",
    "X, y = fetch_openml(\n",
    "    name=\"blood-transfusion-service-center\",\n",
    "    as_frame=True, return_X_y=True,\n",
    ")\n",
    "# Make columns and classes more human-readable\n",
    "X.columns = [\"Recency\", \"Frequency\", \"Monetary\", \"Time\"]\n",
    "y = y.apply(\n",
    "    lambda x: \"donated\" if x == \"2\" else \"not donated\"\n",
    ").astype(\"category\")\n",
    "y.cat.categories"
   ]
  },
  {
   "cell_type": "markdown",
   "metadata": {},
   "source": [
    "We can see that the target `y` contains 2 categories corresponding to whether\n",
    "or not a subject gave blood or not. We will use a logistic regression\n",
    "classifier to predict this outcome.\n",
    "\n",
    "First, we split the data into a training and a testing set."
   ]
  },
  {
   "cell_type": "code",
   "execution_count": 2,
   "metadata": {},
   "outputs": [],
   "source": [
    "from sklearn.model_selection import train_test_split\n",
    "\n",
    "X_train, X_test, y_train, y_test = train_test_split(\n",
    "    X, y, shuffle=True, random_state=0, test_size=0.5\n",
    ")"
   ]
  },
  {
   "cell_type": "markdown",
   "metadata": {},
   "source": [
    "Once our data are split, we can learn a logistic regression classifier solely\n",
    "on the training data, keeping the testing data for the evaluation of the\n",
    "model."
   ]
  },
  {
   "cell_type": "code",
   "execution_count": 3,
   "metadata": {},
   "outputs": [
    {
     "data": {
      "text/plain": [
       "LogisticRegression()"
      ]
     },
     "execution_count": 3,
     "metadata": {},
     "output_type": "execute_result"
    }
   ],
   "source": [
    "from sklearn.linear_model import LogisticRegression\n",
    "\n",
    "classifier = LogisticRegression()\n",
    "classifier.fit(X_train, y_train)"
   ]
  },
  {
   "cell_type": "markdown",
   "metadata": {},
   "source": [
    "Now, that our classifier is trained, we can provide some information about a\n",
    "subject and the classifier can predict whether or not the subject will donate\n",
    "blood.\n",
    "\n",
    "Let's create a synthetic sample corresponding to the following potential new\n",
    "donor: he/she donated blood 6 month ago and gave twice blood in the past for\n",
    "a total of 1000 c.c. He/she gave blood for the first time 20 months ago."
   ]
  },
  {
   "cell_type": "code",
   "execution_count": 4,
   "metadata": {},
   "outputs": [
    {
     "data": {
      "text/plain": [
       "array(['not donated'], dtype=object)"
      ]
     },
     "execution_count": 4,
     "metadata": {},
     "output_type": "execute_result"
    }
   ],
   "source": [
    "new_donor = [[6, 2, 1000, 20]]\n",
    "classifier.predict(new_donor)"
   ]
  },
  {
   "cell_type": "markdown",
   "metadata": {},
   "source": [
    "With these information, our classifier predicted that this synthetic subject\n",
    "is more likely to not donate blood. However, we have no possibility to ensure\n",
    "if the prediction is correct or not. That's why, we can now use the testing\n",
    "set for this purpose. First, we can predict whether or not a subject will\n",
    "give blood with the help of the trained classifier."
   ]
  },
  {
   "cell_type": "code",
   "execution_count": 5,
   "metadata": {},
   "outputs": [
    {
     "data": {
      "text/plain": [
       "array(['not donated', 'not donated', 'not donated', 'not donated',\n",
       "       'donated'], dtype=object)"
      ]
     },
     "execution_count": 5,
     "metadata": {},
     "output_type": "execute_result"
    }
   ],
   "source": [
    "y_pred = classifier.predict(X_test)\n",
    "y_pred[:5]"
   ]
  },
  {
   "cell_type": "markdown",
   "metadata": {},
   "source": [
    "### Accuracy as a baseline\n",
    "Now that we have these predictions, we could compare them with the true\n",
    "predictions (sometimes called ground-truth) which we did not use up to now."
   ]
  },
  {
   "cell_type": "code",
   "execution_count": 6,
   "metadata": {},
   "outputs": [
    {
     "data": {
      "text/plain": [
       "258     True\n",
       "521    False\n",
       "14     False\n",
       "31     False\n",
       "505     True\n",
       "       ...  \n",
       "665     True\n",
       "100    False\n",
       "422     True\n",
       "615     True\n",
       "743     True\n",
       "Name: Class, Length: 374, dtype: bool"
      ]
     },
     "execution_count": 6,
     "metadata": {},
     "output_type": "execute_result"
    }
   ],
   "source": [
    "y_test == y_pred"
   ]
  },
  {
   "cell_type": "markdown",
   "metadata": {},
   "source": [
    "In the comparison above, a `True` value means that the value predicted by our\n",
    "classifier is identical to the real `prediction` while a `False` means that\n",
    "our classifier made a mistake. One way to get an overall statistic telling us\n",
    "how good the performance of our classifier are is to compute the number of\n",
    "time our classifier was right and divide it by the number of samples in our\n",
    "set (i.e. taking the mean of correct predictions)"
   ]
  },
  {
   "cell_type": "code",
   "execution_count": 7,
   "metadata": {},
   "outputs": [
    {
     "data": {
      "text/plain": [
       "0.7780748663101604"
      ]
     },
     "execution_count": 7,
     "metadata": {},
     "output_type": "execute_result"
    }
   ],
   "source": [
    "import numpy as np\n",
    "\n",
    "np.mean(y_test == y_pred)"
   ]
  },
  {
   "cell_type": "markdown",
   "metadata": {},
   "source": [
    "This measure is also known as the accuracy. Here, our classifier is 78%\n",
    "accurate at classifying if subject will give blood. `scikit-learn` provides a\n",
    "function to compute this metric in the module `sklearn.metrics`."
   ]
  },
  {
   "cell_type": "code",
   "execution_count": 8,
   "metadata": {},
   "outputs": [
    {
     "data": {
      "text/plain": [
       "0.7780748663101604"
      ]
     },
     "execution_count": 8,
     "metadata": {},
     "output_type": "execute_result"
    }
   ],
   "source": [
    "from sklearn.metrics import accuracy_score\n",
    "\n",
    "accuracy_score(y_test, y_pred)"
   ]
  },
  {
   "cell_type": "markdown",
   "metadata": {},
   "source": [
    "Scikit-learn also have a build-in method named `score` which compute by\n",
    "default the accuracy score."
   ]
  },
  {
   "cell_type": "code",
   "execution_count": 9,
   "metadata": {},
   "outputs": [
    {
     "data": {
      "text/plain": [
       "0.7780748663101604"
      ]
     },
     "execution_count": 9,
     "metadata": {},
     "output_type": "execute_result"
    }
   ],
   "source": [
    "classifier.score(X_test, y_test)"
   ]
  },
  {
   "cell_type": "markdown",
   "metadata": {},
   "source": [
    "### Confusion matrix and derived metrics\n",
    "The comparison that we did above and the accuracy that we deducted did not\n",
    "take into account which type of error our classifier was doing. The accuracy\n",
    "is an aggregate of the error. However, we might be interested in a lower\n",
    "granularity level to know separately the error for the two following case:\n",
    "- we predicted that a person will give blood but she/he is not;\n",
    "- we predicted that a person will not give blood but she/he is."
   ]
  },
  {
   "cell_type": "code",
   "execution_count": 10,
   "metadata": {},
   "outputs": [
    {
     "data": {
      "text/plain": [
       "<sklearn.metrics._plot.confusion_matrix.ConfusionMatrixDisplay at 0x7f823a2cff50>"
      ]
     },
     "execution_count": 10,
     "metadata": {},
     "output_type": "execute_result"
    },
    {
     "data": {
      "image/png": "[encoded data removed]",
      "text/plain": [
       "<Figure size 432x288 with 2 Axes>"
      ]
     },
     "metadata": {
      "filenames": {
       "image/png": "/home/runner/work/scikit-learn-mooc/scikit-learn-mooc/jupyter-book/_build/jupyter_execute/metrics_21_1.png"
      },
      "needs_background": "light"
     },
     "output_type": "display_data"
    }
   ],
   "source": [
    "from sklearn.metrics import plot_confusion_matrix\n",
    "\n",
    "plot_confusion_matrix(classifier, X_test, y_test)"
   ]
  },
  {
   "cell_type": "markdown",
   "metadata": {},
   "source": [
    "The in-diagonal numbers are related to predictions that agree\n",
    "with the true labels while off-diagonal numbers are related to\n",
    "misclassification. Besides, we now know the type of true or erroneous\n",
    "predictions the classifier did:\n",
    "\n",
    "* the top left corner is called true positive (TP) and correspond to a person\n",
    "  who gave blood and was predicted as such by the classifier;\n",
    "* the bottom right corner is called the true negative (TN) and correspond to\n",
    "  a person who did not gave blood and was predicted as such by the\n",
    "  classifier;\n",
    "* the top right corner is called false negative (FN) and correspond to a\n",
    "  person who gave blood but was predicted as not giving blood;\n",
    "* the bottom left corner is called false positive (FP) and correspond to a\n",
    "  person who did not give blood but was predicted as giving blood.\n",
    "\n",
    "Once we have split these information, we can compute statistics for\n",
    "highlighting the performance of our classifier in a particular setting. For\n",
    "instance, one could be interested in the fraction of persons who really gave\n",
    "blood when the classifier predicted so or the fraction of people predicted as\n",
    "giving blood among the total population that actually did so.\n",
    "\n",
    "The former statistic is known as the precision defined as TP / (TP + FP)\n",
    "while the latter statistic is known as the recall defined as TP / (TP + FN)\n",
    "We could, similarly than with the accuracy, manually compute these values.\n",
    "But scikit-learn provides functions to compute these statistics."
   ]
  },
  {
   "cell_type": "code",
   "execution_count": 11,
   "metadata": {},
   "outputs": [
    {
     "name": "stdout",
     "output_type": "stream",
     "text": [
      "Precision score: 0.6875\n",
      "Recall score: 0.12359550561797752\n"
     ]
    }
   ],
   "source": [
    "from sklearn.metrics import precision_score, recall_score\n",
    "\n",
    "print(\n",
    "    f\"Precision score: {precision_score(y_test, y_pred, pos_label='donated')}\"\n",
    "    f\"\\nRecall score: {recall_score(y_test, y_pred, pos_label='donated')}\"\n",
    ")"
   ]
  },
  {
   "cell_type": "markdown",
   "metadata": {},
   "source": [
    "These results are in line with what we could see in the confusion matrix.\n",
    "In the left column, more than half of the predictions were corrected leading\n",
    "to a precision above 0.5. However, our classifier mislabeled a lot of persons\n",
    "who gave blood as \"not donated\" leading to a very low recall of around 0.1.\n",
    "\n",
    "The precision and recall can be combined in a single score called the F1\n",
    "score (which is the harmonic mean of precision and recall)"
   ]
  },
  {
   "cell_type": "code",
   "execution_count": 12,
   "metadata": {},
   "outputs": [
    {
     "data": {
      "text/plain": [
       "0.20952380952380953"
      ]
     },
     "execution_count": 12,
     "metadata": {},
     "output_type": "execute_result"
    }
   ],
   "source": [
    "from sklearn.metrics import f1_score\n",
    "\n",
    "f1_score(y_test, y_pred, pos_label='donated')"
   ]
  },
  {
   "cell_type": "markdown",
   "metadata": {},
   "source": [
    "### The issue of class imbalance\n",
    "At this stage, we could ask ourself a reasonable question. While the accuracy\n",
    "did not look bad (i.e. 77%), the F1 score is relatively low (i.e. 21%).\n",
    "\n",
    "As we mentioned, precision and recall only focus on the positive label while\n",
    "the accuracy is taking both aspects into account. In addition,\n",
    "we omit to look at the ratio class\n",
    "occurrence. We could check this ratio in the training set."
   ]
  },
  {
   "cell_type": "code",
   "execution_count": 13,
   "metadata": {},
   "outputs": [
    {
     "data": {
      "text/plain": [
       "not donated    0.762032\n",
       "donated        0.237968\n",
       "dtype: float64"
      ]
     },
     "execution_count": 13,
     "metadata": {},
     "output_type": "execute_result"
    }
   ],
   "source": [
    "from collections import Counter\n",
    "\n",
    "class_counts = pd.Series(Counter(y_train))\n",
    "class_counts /= class_counts.sum()\n",
    "class_counts"
   ]
  },
  {
   "cell_type": "markdown",
   "metadata": {},
   "source": [
    "So we can observed that the positive class `'donated'` is only 24% of the\n",
    "total number of instances. The good accuracy of our classifier is then linked\n",
    "to its capability of predicting correctly the negative class `'not donated'`\n",
    "which could be relevant or not depending of the application. We can\n",
    "illustrate the issue using a dummy classifier as a baseline."
   ]
  },
  {
   "cell_type": "code",
   "execution_count": 14,
   "metadata": {},
   "outputs": [
    {
     "data": {
      "text/plain": [
       "0.7620320855614974"
      ]
     },
     "execution_count": 14,
     "metadata": {},
     "output_type": "execute_result"
    }
   ],
   "source": [
    "from sklearn.dummy import DummyClassifier\n",
    "\n",
    "dummy_classifier = DummyClassifier(\n",
    "    strategy=\"constant\", constant=\"not donated\"\n",
    ")\n",
    "dummy_classifier.fit(X_train, y_train).score(X_test, y_test)"
   ]
  },
  {
   "cell_type": "markdown",
   "metadata": {},
   "source": [
    "This dummy classifier will always predict the negative class `'not donated'`.\n",
    "We obtain an accuracy score of 76%. Therefore, it means that this classifier,\n",
    "without learning anything from the data `X` is capable of predicting as\n",
    "accurately than our logistic regression. 76% represents the baseline that\n",
    "any classifier should overperform to not be a random classifier.\n",
    "\n",
    "The problem illustrated above is also known as the class imbalance problem\n",
    "where the accuracy should not be used. In this case, one should either use\n",
    "the precision, recall, or F1 score as presented above or the balanced\n",
    "accuracy score instead of the accuracy."
   ]
  },
  {
   "cell_type": "code",
   "execution_count": 15,
   "metadata": {},
   "outputs": [
    {
     "data": {
      "text/plain": [
       "0.5530258229844274"
      ]
     },
     "execution_count": 15,
     "metadata": {},
     "output_type": "execute_result"
    }
   ],
   "source": [
    "from sklearn.metrics import balanced_accuracy_score\n",
    "\n",
    "balanced_accuracy_score(y_test, y_pred)"
   ]
  },
  {
   "cell_type": "markdown",
   "metadata": {},
   "source": [
    "The balanced accuracy is equivalent to the accuracy in the context of\n",
    "balanced classes. It is defined as the average recall obtained on each class.\n",
    "\n",
    "### Evaluation with different probability threshold\n",
    "\n",
    "All statistics that we presented up to now rely on `classifier.predict` which\n",
    "provide the most likely label. However, we don't use the probability\n",
    "associated with this prediction or in other words how sure are the classifier\n",
    "confident about this prediction. By default, the prediction of a classifier\n",
    "correspons to a thresholding at a 0.5 probability, in a binary classification\n",
    "problem. We can quickly check this relationship with the classifier that\n",
    "we trained."
   ]
  },
  {
   "cell_type": "code",
   "execution_count": 16,
   "metadata": {},
   "outputs": [
    {
     "data": {
      "text/html": [
       "<div>\n",
       "<style scoped>\n",
       "    .dataframe tbody tr th:only-of-type {\n",
       "        vertical-align: middle;\n",
       "    }\n",
       "\n",
       "    .dataframe tbody tr th {\n",
       "        vertical-align: top;\n",
       "    }\n",
       "\n",
       "    .dataframe thead th {\n",
       "        text-align: right;\n",
       "    }\n",
       "</style>\n",
       "<table border=\"1\" class=\"dataframe\">\n",
       "  <thead>\n",
       "    <tr style=\"text-align: right;\">\n",
       "      <th></th>\n",
       "      <th>donated</th>\n",
       "      <th>not donated</th>\n",
       "    </tr>\n",
       "  </thead>\n",
       "  <tbody>\n",
       "    <tr>\n",
       "      <th>0</th>\n",
       "      <td>0.271820</td>\n",
       "      <td>0.728180</td>\n",
       "    </tr>\n",
       "    <tr>\n",
       "      <th>1</th>\n",
       "      <td>0.451764</td>\n",
       "      <td>0.548236</td>\n",
       "    </tr>\n",
       "    <tr>\n",
       "      <th>2</th>\n",
       "      <td>0.445211</td>\n",
       "      <td>0.554789</td>\n",
       "    </tr>\n",
       "    <tr>\n",
       "      <th>3</th>\n",
       "      <td>0.441577</td>\n",
       "      <td>0.558423</td>\n",
       "    </tr>\n",
       "    <tr>\n",
       "      <th>4</th>\n",
       "      <td>0.870583</td>\n",
       "      <td>0.129417</td>\n",
       "    </tr>\n",
       "  </tbody>\n",
       "</table>\n",
       "</div>"
      ],
      "text/plain": [
       "    donated  not donated\n",
       "0  0.271820     0.728180\n",
       "1  0.451764     0.548236\n",
       "2  0.445211     0.554789\n",
       "3  0.441577     0.558423\n",
       "4  0.870583     0.129417"
      ]
     },
     "execution_count": 16,
     "metadata": {},
     "output_type": "execute_result"
    }
   ],
   "source": [
    "y_proba = pd.DataFrame(\n",
    "    classifier.predict_proba(X_test),\n",
    "    columns=classifier.classes_\n",
    ")\n",
    "y_proba[:5]"
   ]
  },
  {
   "cell_type": "code",
   "execution_count": 17,
   "metadata": {},
   "outputs": [
    {
     "data": {
      "text/plain": [
       "array(['not donated', 'not donated', 'not donated', 'not donated',\n",
       "       'donated'], dtype=object)"
      ]
     },
     "execution_count": 17,
     "metadata": {},
     "output_type": "execute_result"
    }
   ],
   "source": [
    "y_pred = classifier.predict(X_test)\n",
    "y_pred[:5]"
   ]
  },
  {
   "cell_type": "code",
   "execution_count": 18,
   "metadata": {},
   "outputs": [
    {
     "data": {
      "text/plain": [
       "True"
      ]
     },
     "execution_count": 18,
     "metadata": {},
     "output_type": "execute_result"
    }
   ],
   "source": [
    "# Since probabilities sum to 1 we can get the class with the highest\n",
    "# probability without using the threshold 0.5\n",
    "equivalence_pred_proba = (\n",
    "    y_proba.idxmax(axis=1).to_numpy() == y_pred\n",
    ")\n",
    "np.all(equivalence_pred_proba)"
   ]
  },
  {
   "cell_type": "markdown",
   "metadata": {},
   "source": [
    "The default decision threshold (0.5) might not be the best threshold leading\n",
    "to optimal performance of our classifier. In this case, one can vary the\n",
    "decision threshold and therefore the underlying prediction and compute the\n",
    "same statistic than presented earlier. Usually, two metrics are computed and\n",
    "reported as a curve. Each metric is belonging to a graph axis and a point on\n",
    "the graph corresponds to a specific decision threshold. Let's start by\n",
    "computing the precision-recall curve."
   ]
  },
  {
   "cell_type": "code",
   "execution_count": 19,
   "metadata": {},
   "outputs": [
    {
     "data": {
      "text/plain": [
       "<matplotlib.legend.Legend at 0x7f8239602a50>"
      ]
     },
     "execution_count": 19,
     "metadata": {},
     "output_type": "execute_result"
    },
    {
     "data": {
      "image/png": "[encoded data removed]",
      "text/plain": [
       "<Figure size 432x288 with 1 Axes>"
      ]
     },
     "metadata": {
      "filenames": {
       "image/png": "/home/runner/work/scikit-learn-mooc/scikit-learn-mooc/jupyter-book/_build/jupyter_execute/metrics_37_1.png"
      },
      "needs_background": "light"
     },
     "output_type": "display_data"
    }
   ],
   "source": [
    "import matplotlib.pyplot as plt\n",
    "from sklearn.metrics import precision_recall_curve\n",
    "from sklearn.metrics import average_precision_score\n",
    "\n",
    "y_pred = classifier.predict_proba(X_test)\n",
    "pos_label = \"donated\"\n",
    "precision, recall, threshold = precision_recall_curve(\n",
    "    y_test, y_pred[:, 0], pos_label=pos_label,\n",
    ")\n",
    "average_precision = average_precision_score(\n",
    "    y_test, y_pred[:, 0], pos_label=pos_label,\n",
    ")\n",
    "plt.plot(\n",
    "    recall, precision,\n",
    "    color=\"tab:orange\", linewidth=3,\n",
    "    marker=\".\", markerfacecolor=\"tab:blue\", markeredgecolor=\"tab:blue\",\n",
    "    label=f\"Average Precision: {average_precision:.2f}\",\n",
    ")\n",
    "plt.xlabel(f\"Recall\\n (Positive label: {pos_label})\")\n",
    "plt.ylabel(f\"Precision\\n (Positive label: {pos_label})\")\n",
    "plt.legend()\n",
    "\n",
    "# # FIXME: to be used when solved in scikit-learn\n",
    "# from sklearn.metrics import plot_precision_recall_curve\n",
    "\n",
    "# disp = plot_precision_recall_curve(\n",
    "#     classifier, X_test, y_test, pos_label='donated',\n",
    "# )"
   ]
  },
  {
   "cell_type": "markdown",
   "metadata": {},
   "source": [
    "On this curve, each blue dot correspond to a certain level of probability\n",
    "which we used as a decision threshold. We can see that by varying this\n",
    "decision threshold, we get different compromise precision vs. recall.\n",
    "\n",
    "A perfect classifier is expected to have a precision at 1 even when varying\n",
    "the recall. A metric characterizing the curve is linked to the area under the\n",
    "curve (AUC), named averaged precision. With a ideal classifier, the\n",
    "average precision will be 1.\n",
    "\n",
    "While the precision and recall metric focuses on the positive class, one\n",
    "might be interested into the compromise between performance to discriminate\n",
    "positive and negative classes. The statistics used in this case are the\n",
    "sensitivity and specificity. The sensitivity is just another denomination for\n",
    "recall. However, the specificity measures the proportion of well classified\n",
    "samples from the negative class defined as TN / (TN + FP). Similarly to the\n",
    "precision-recall curve, sensitivity and specificity are reported with a curve\n",
    "called the receiver operating characteristic (ROC) curve. We will show such\n",
    "curve:"
   ]
  },
  {
   "cell_type": "code",
   "execution_count": 20,
   "metadata": {},
   "outputs": [
    {
     "data": {
      "text/plain": [
       "<matplotlib.legend.Legend at 0x7f82372b46d0>"
      ]
     },
     "execution_count": 20,
     "metadata": {},
     "output_type": "execute_result"
    },
    {
     "data": {
      "image/png": "[encoded data removed]",
      "text/plain": [
       "<Figure size 432x288 with 1 Axes>"
      ]
     },
     "metadata": {
      "filenames": {
       "image/png": "/home/runner/work/scikit-learn-mooc/scikit-learn-mooc/jupyter-book/_build/jupyter_execute/metrics_39_1.png"
      },
      "needs_background": "light"
     },
     "output_type": "display_data"
    }
   ],
   "source": [
    "from sklearn.metrics import roc_curve\n",
    "from sklearn.metrics import roc_auc_score\n",
    "\n",
    "fpr, tpr, threshold = roc_curve(y_test, y_pred[:, 0], pos_label=pos_label)\n",
    "# FIXME: roc_auc_score has a bug and we need to give the inverse probability\n",
    "# vector. Should be changed when the following is merged and released:\n",
    "# https://github.com/scikit-learn/scikit-learn/pull/17594\n",
    "roc_auc = roc_auc_score(y_test, y_pred[:, 1])\n",
    "plt.plot(\n",
    "    fpr, tpr,\n",
    "    color=\"tab:orange\", linewidth=3,\n",
    "    marker=\".\", markerfacecolor=\"tab:blue\", markeredgecolor=\"tab:blue\",\n",
    "    label=f\"ROC-AUC: {roc_auc:.2f}\"\n",
    ")\n",
    "plt.plot([0, 1], [0, 1], \"--\", color=\"tab:green\", label=\"Chance\")\n",
    "plt.xlabel(f\"1 - Specificity\\n (Positive label: {pos_label})\")\n",
    "plt.ylabel(f\"Sensitivity\\n (Positive label: {pos_label})\")\n",
    "plt.legend()\n",
    "\n",
    "# # FIXME: to be used when solved in scikit-learn\n",
    "# from sklearn.metrics import plot_roc_curve\n",
    "\n",
    "# plot_roc_curve(classifier, X_test, y_test, pos_label='donated')"
   ]
  },
  {
   "cell_type": "markdown",
   "metadata": {},
   "source": [
    "This curve is built with the same principle than with the precision-recall\n",
    "curve: we vary the probability threshold to compute \"hard\" prediction and\n",
    "compute the metrics. As with the precision-recall curve as well, we can\n",
    "compute the area under the ROC (ROC-AUC) to characterize the performance of\n",
    "our classifier. However, this is important to observer that the lower bound\n",
    "of the ROC-AUC is 0.5. Indeed, we represented the performance of a dummy\n",
    "classifier (i.e. green dashed line) to show that the worse performance\n",
    "obtained will always be above this line.\n",
    "\n",
    "### Link between confusion matrix, precision-recall curve and ROC curve\n",
    "\n",
    "TODO: ipywidgets to play with interactive curve"
   ]
  },
  {
   "cell_type": "code",
   "execution_count": 21,
   "metadata": {},
   "outputs": [],
   "source": [
    "def plot_pr_curve(classifier, X_test, y_test, pos_label,\n",
    "                  probability_threshold, ax):\n",
    "    y_pred = classifier.predict_proba(X_test)\n",
    "    precision, recall, threshold = precision_recall_curve(\n",
    "        y_test, y_pred[:, 0], pos_label=pos_label,\n",
    "    )\n",
    "    average_precision = average_precision_score(\n",
    "        y_test, y_pred[:, 0], pos_label=pos_label,\n",
    "    )\n",
    "    ax.plot(\n",
    "        recall, precision,\n",
    "        color=\"tab:orange\", linewidth=3,\n",
    "        label=f\"Average Precision: {average_precision:.2f}\",\n",
    "    )\n",
    "    threshold_idx = np.searchsorted(\n",
    "        threshold, probability_threshold,\n",
    "    )\n",
    "    ax.plot(\n",
    "        recall[threshold_idx], precision[threshold_idx],\n",
    "        color=\"tab:blue\", marker=\".\", markersize=10,\n",
    "    )\n",
    "    ax.plot(\n",
    "        [recall[threshold_idx], recall[threshold_idx]],\n",
    "        [0, precision[threshold_idx]],\n",
    "        '--', color=\"tab:blue\",\n",
    "    )\n",
    "    ax.plot(\n",
    "        [0, recall[threshold_idx]],\n",
    "        [precision[threshold_idx], precision[threshold_idx]],\n",
    "        '--', color=\"tab:blue\",\n",
    "    )\n",
    "    ax.set_xlabel(f\"Recall\")\n",
    "    ax.set_ylabel(f\"Precision\")\n",
    "    ax.set_xlim([0, 1])\n",
    "    ax.set_ylim([0, 1])\n",
    "    ax.legend()\n",
    "    return ax"
   ]
  },
  {
   "cell_type": "code",
   "execution_count": 22,
   "metadata": {},
   "outputs": [],
   "source": [
    "def plot_roc_curve(classifier, X_test, y_test, pos_label,\n",
    "                   probability_threshold, ax):\n",
    "    y_pred = classifier.predict_proba(X_test)\n",
    "    fpr, tpr, threshold = roc_curve(y_test, y_pred[:, 0], pos_label=pos_label)\n",
    "    roc_auc = roc_auc_score(y_test, y_pred[:, 1])\n",
    "    ax.plot(\n",
    "        fpr, tpr,\n",
    "        color=\"tab:orange\", linewidth=3,\n",
    "        label=f\"ROC-AUC: {roc_auc:.2f}\"\n",
    "    )\n",
    "    ax.plot([0, 1], [0, 1], \"--\", color=\"tab:green\", label=\"Chance\")\n",
    "    threshold_idx = np.searchsorted(\n",
    "        threshold[::-1], probability_threshold,\n",
    "    )\n",
    "    threshold_idx = len(threshold) - threshold_idx - 1\n",
    "    ax.plot(\n",
    "        fpr[threshold_idx], tpr[threshold_idx],\n",
    "        color=\"tab:blue\", marker=\".\", markersize=10,\n",
    "    )\n",
    "    ax.plot(\n",
    "        [fpr[threshold_idx], fpr[threshold_idx]],\n",
    "        [0, tpr[threshold_idx]],\n",
    "        '--', color=\"tab:blue\",\n",
    "    )\n",
    "    ax.plot(\n",
    "        [0, fpr[threshold_idx]],\n",
    "        [tpr[threshold_idx], tpr[threshold_idx]],\n",
    "        '--', color=\"tab:blue\",\n",
    "    )\n",
    "    ax.set_xlabel(f\"1 - Specificity\")\n",
    "    ax.set_ylabel(f\"Sensitivity\")\n",
    "    ax.set_xlim([0, 1])\n",
    "    ax.set_ylim([0, 1])\n",
    "    ax.legend()\n",
    "    return ax"
   ]
  },
  {
   "cell_type": "code",
   "execution_count": 23,
   "metadata": {},
   "outputs": [],
   "source": [
    "def plot_confusion_matrix_with_threshold(classifier, X_test, y_test, pos_label,\n",
    "                                         probability_threshold, ax):\n",
    "    from itertools import product\n",
    "    from sklearn.metrics import confusion_matrix\n",
    "\n",
    "    class_idx = np.where(classifier.classes_ == pos_label)[0][0]\n",
    "    n_classes = len(classifier.classes_)\n",
    "\n",
    "    y_pred = classifier.predict_proba(X_test)\n",
    "    y_pred = (y_pred[:, class_idx] > probability_threshold).astype(int)\n",
    "\n",
    "    cm = confusion_matrix(\n",
    "        (y_test == pos_label).astype(int), y_pred,\n",
    "    )\n",
    "    im_ = ax.imshow(cm, interpolation='nearest')\n",
    "\n",
    "    text_ = None\n",
    "    cmap_min, cmap_max = im_.cmap(0), im_.cmap(256)\n",
    "\n",
    "    text_ = np.empty_like(cm, dtype=object)\n",
    "\n",
    "    # print text with appropriate color depending on background\n",
    "    thresh = (cm.max() + cm.min()) / 2.0\n",
    "\n",
    "    for i, j in product(range(n_classes), range(n_classes)):\n",
    "        color = cmap_max if cm[i, j] < thresh else cmap_min\n",
    "\n",
    "        text_cm = format(cm[i, j], '.2g')\n",
    "        if cm.dtype.kind != 'f':\n",
    "            text_d = format(cm[i, j], 'd')\n",
    "            if len(text_d) < len(text_cm):\n",
    "                text_cm = text_d\n",
    "\n",
    "        text_[i, j] = ax.text(\n",
    "            j, i, text_cm, ha=\"center\", va=\"center\", color=color\n",
    "        )\n",
    "\n",
    "    ax.set(\n",
    "        xticks=np.arange(n_classes),\n",
    "        yticks=np.arange(n_classes),\n",
    "        xticklabels=classifier.classes_[[int(not bool(class_idx)), class_idx]],\n",
    "        yticklabels=classifier.classes_[[int(not bool(class_idx)), class_idx]],\n",
    "        ylabel=\"True label\",\n",
    "        xlabel=\"Predicted label\"\n",
    "    )"
   ]
  },
  {
   "cell_type": "code",
   "execution_count": 24,
   "metadata": {},
   "outputs": [],
   "source": [
    "def plot_pr_roc(threshold):\n",
    "    # FIXME: we could optimize the plotting by only updating the the\n",
    "    fig, axs = plt.subplots(ncols=3, figsize=(21, 6))\n",
    "    plot_pr_curve(\n",
    "        classifier, X_test, y_test, pos_label=\"donated\",\n",
    "        probability_threshold=threshold, ax=axs[0],\n",
    "    )\n",
    "    plot_roc_curve(\n",
    "        classifier, X_test, y_test, pos_label=\"donated\",\n",
    "        probability_threshold=threshold, ax=axs[1]\n",
    "    )\n",
    "    plot_confusion_matrix_with_threshold(\n",
    "        classifier, X_test, y_test, pos_label=\"donated\",\n",
    "        probability_threshold=threshold, ax=axs[2]\n",
    "    )\n",
    "    fig.suptitle(\"Overall performance with positive class 'donated'\")"
   ]
  },
  {
   "cell_type": "code",
   "execution_count": 25,
   "metadata": {},
   "outputs": [],
   "source": [
    "def plot_pr_roc_interactive():\n",
    "    from ipywidgets import interactive, FloatSlider\n",
    "    slider = FloatSlider(min=0, max=1, step=0.01, value=0.5)\n",
    "    return interactive(plot_pr_roc, threshold=slider)"
   ]
  },
  {
   "cell_type": "code",
   "execution_count": 26,
   "metadata": {},
   "outputs": [
    {
     "data": {
      "application/vnd.jupyter.widget-view+json": {
       "model_id": "f25629b39b704c37bac9cb5468abe171",
       "version_major": 2,
       "version_minor": 0
      },
      "text/plain": [
       "interactive(children=(FloatSlider(value=0.5, description='threshold', max=1.0, step=0.01), Output()), _dom_cla…"
      ]
     },
     "metadata": {},
     "output_type": "display_data"
    }
   ],
   "source": [
    "plot_pr_roc_interactive()"
   ]
  },
  {
   "cell_type": "markdown",
   "metadata": {},
   "source": [
    "## Regression\n",
    "Unlike in the classification problem, the target `y` is a continuous\n",
    "variable in regression problem. Therefore, the classification metrics can be\n",
    "used to evaluate the performance of a model. Instead, there exists a set of\n",
    "metric dedicated to regression."
   ]
  },
  {
   "cell_type": "code",
   "execution_count": 27,
   "metadata": {},
   "outputs": [],
   "source": [
    "data = pd.read_csv(\n",
    "    (\"https://raw.githubusercontent.com/christophM/interpretable-ml-book/\"\n",
    "     \"master/data/bike.csv\"),\n",
    ")\n",
    "# rename the columns with human-readable names\n",
    "data = data.rename(columns={\n",
    "    \"yr\": \"year\", \"mnth\": \"month\", \"temp\": \"temperature\", \"hum\": \"humidity\",\n",
    "    \"cnt\": \"count\", \"days_since_2011\": \"days since 2011\"\n",
    "})\n",
    "# convert the categorical columns with a proper category data type\n",
    "for col in data.columns:\n",
    "    if data[col].dtype.kind == \"O\":\n",
    "        data[col] = data[col].astype(\"category\")\n",
    "\n",
    "# separate the target from the original data\n",
    "X = data.drop(columns=[\"count\"])\n",
    "y = data[\"count\"]"
   ]
  },
  {
   "cell_type": "code",
   "execution_count": 28,
   "metadata": {},
   "outputs": [
    {
     "data": {
      "text/html": [
       "<div>\n",
       "<style scoped>\n",
       "    .dataframe tbody tr th:only-of-type {\n",
       "        vertical-align: middle;\n",
       "    }\n",
       "\n",
       "    .dataframe tbody tr th {\n",
       "        vertical-align: top;\n",
       "    }\n",
       "\n",
       "    .dataframe thead th {\n",
       "        text-align: right;\n",
       "    }\n",
       "</style>\n",
       "<table border=\"1\" class=\"dataframe\">\n",
       "  <thead>\n",
       "    <tr style=\"text-align: right;\">\n",
       "      <th></th>\n",
       "      <th>season</th>\n",
       "      <th>year</th>\n",
       "      <th>month</th>\n",
       "      <th>holiday</th>\n",
       "      <th>weekday</th>\n",
       "      <th>workingday</th>\n",
       "      <th>weathersit</th>\n",
       "      <th>temperature</th>\n",
       "      <th>humidity</th>\n",
       "      <th>windspeed</th>\n",
       "      <th>days since 2011</th>\n",
       "    </tr>\n",
       "  </thead>\n",
       "  <tbody>\n",
       "    <tr>\n",
       "      <th>0</th>\n",
       "      <td>SPRING</td>\n",
       "      <td>2011</td>\n",
       "      <td>JAN</td>\n",
       "      <td>NO HOLIDAY</td>\n",
       "      <td>SAT</td>\n",
       "      <td>NO WORKING DAY</td>\n",
       "      <td>MISTY</td>\n",
       "      <td>8.175849</td>\n",
       "      <td>80.5833</td>\n",
       "      <td>10.749882</td>\n",
       "      <td>0</td>\n",
       "    </tr>\n",
       "    <tr>\n",
       "      <th>1</th>\n",
       "      <td>SPRING</td>\n",
       "      <td>2011</td>\n",
       "      <td>JAN</td>\n",
       "      <td>NO HOLIDAY</td>\n",
       "      <td>SUN</td>\n",
       "      <td>NO WORKING DAY</td>\n",
       "      <td>MISTY</td>\n",
       "      <td>9.083466</td>\n",
       "      <td>69.6087</td>\n",
       "      <td>16.652113</td>\n",
       "      <td>1</td>\n",
       "    </tr>\n",
       "    <tr>\n",
       "      <th>2</th>\n",
       "      <td>SPRING</td>\n",
       "      <td>2011</td>\n",
       "      <td>JAN</td>\n",
       "      <td>NO HOLIDAY</td>\n",
       "      <td>MON</td>\n",
       "      <td>WORKING DAY</td>\n",
       "      <td>GOOD</td>\n",
       "      <td>1.229108</td>\n",
       "      <td>43.7273</td>\n",
       "      <td>16.636703</td>\n",
       "      <td>2</td>\n",
       "    </tr>\n",
       "    <tr>\n",
       "      <th>3</th>\n",
       "      <td>SPRING</td>\n",
       "      <td>2011</td>\n",
       "      <td>JAN</td>\n",
       "      <td>NO HOLIDAY</td>\n",
       "      <td>TUE</td>\n",
       "      <td>WORKING DAY</td>\n",
       "      <td>GOOD</td>\n",
       "      <td>1.400000</td>\n",
       "      <td>59.0435</td>\n",
       "      <td>10.739832</td>\n",
       "      <td>3</td>\n",
       "    </tr>\n",
       "    <tr>\n",
       "      <th>4</th>\n",
       "      <td>SPRING</td>\n",
       "      <td>2011</td>\n",
       "      <td>JAN</td>\n",
       "      <td>NO HOLIDAY</td>\n",
       "      <td>WED</td>\n",
       "      <td>WORKING DAY</td>\n",
       "      <td>GOOD</td>\n",
       "      <td>2.666979</td>\n",
       "      <td>43.6957</td>\n",
       "      <td>12.522300</td>\n",
       "      <td>4</td>\n",
       "    </tr>\n",
       "  </tbody>\n",
       "</table>\n",
       "</div>"
      ],
      "text/plain": [
       "   season  year month     holiday weekday      workingday weathersit  \\\n",
       "0  SPRING  2011   JAN  NO HOLIDAY     SAT  NO WORKING DAY      MISTY   \n",
       "1  SPRING  2011   JAN  NO HOLIDAY     SUN  NO WORKING DAY      MISTY   \n",
       "2  SPRING  2011   JAN  NO HOLIDAY     MON     WORKING DAY       GOOD   \n",
       "3  SPRING  2011   JAN  NO HOLIDAY     TUE     WORKING DAY       GOOD   \n",
       "4  SPRING  2011   JAN  NO HOLIDAY     WED     WORKING DAY       GOOD   \n",
       "\n",
       "   temperature  humidity  windspeed  days since 2011  \n",
       "0     8.175849   80.5833  10.749882                0  \n",
       "1     9.083466   69.6087  16.652113                1  \n",
       "2     1.229108   43.7273  16.636703                2  \n",
       "3     1.400000   59.0435  10.739832                3  \n",
       "4     2.666979   43.6957  12.522300                4  "
      ]
     },
     "execution_count": 28,
     "metadata": {},
     "output_type": "execute_result"
    }
   ],
   "source": [
    "X.head()"
   ]
  },
  {
   "cell_type": "code",
   "execution_count": 29,
   "metadata": {},
   "outputs": [
    {
     "data": {
      "text/plain": [
       "Text(0.5, 1.0, 'Target distribution')"
      ]
     },
     "execution_count": 29,
     "metadata": {},
     "output_type": "execute_result"
    },
    {
     "data": {
      "image/png": "[encoded data removed]",
      "text/plain": [
       "<Figure size 432x288 with 1 Axes>"
      ]
     },
     "metadata": {
      "filenames": {
       "image/png": "/home/runner/work/scikit-learn-mooc/scikit-learn-mooc/jupyter-book/_build/jupyter_execute/metrics_50_1.png"
      },
      "needs_background": "light"
     },
     "output_type": "display_data"
    }
   ],
   "source": [
    "plt.hist(y, bins=50, density=True)\n",
    "plt.xlabel(\"Number of bike rentals\")\n",
    "plt.ylabel(\"Probability\")\n",
    "plt.title(\"Target distribution\")"
   ]
  },
  {
   "cell_type": "markdown",
   "metadata": {},
   "source": [
    "Our problem can be formulated as follow: we would like to infer the number of\n",
    "bike rentals from data related to the current day. The number of bike rentals\n",
    "is a number that can vary in the interval [0, infinity) (if the number of\n",
    "bike available is infinite). As in the previous section, we will train a\n",
    "model and we will evaluate its performance by introducing the different\n",
    "regression metrics.\n",
    "\n",
    "First, we split the data into a training and a testing set."
   ]
  },
  {
   "cell_type": "code",
   "execution_count": 30,
   "metadata": {},
   "outputs": [],
   "source": [
    "from sklearn.model_selection import train_test_split\n",
    "\n",
    "X_train, X_test, y_train, y_test = train_test_split(\n",
    "    X, y, shuffle=True, random_state=0\n",
    ")"
   ]
  },
  {
   "cell_type": "markdown",
   "metadata": {},
   "source": [
    "### Baseline model\n",
    "We will use a random forest as a model. However, we first need to check the\n",
    "type of data that we are dealing with:"
   ]
  },
  {
   "cell_type": "code",
   "execution_count": 31,
   "metadata": {},
   "outputs": [
    {
     "name": "stdout",
     "output_type": "stream",
     "text": [
      "<class 'pandas.core.frame.DataFrame'>\n",
      "Int64Index: 548 entries, 452 to 684\n",
      "Data columns (total 11 columns):\n",
      " #   Column           Non-Null Count  Dtype   \n",
      "---  ------           --------------  -----   \n",
      " 0   season           548 non-null    category\n",
      " 1   year             548 non-null    int64   \n",
      " 2   month            548 non-null    category\n",
      " 3   holiday          548 non-null    category\n",
      " 4   weekday          548 non-null    category\n",
      " 5   workingday       548 non-null    category\n",
      " 6   weathersit       548 non-null    category\n",
      " 7   temperature      548 non-null    float64 \n",
      " 8   humidity         548 non-null    float64 \n",
      " 9   windspeed        548 non-null    float64 \n",
      " 10  days since 2011  548 non-null    int64   \n",
      "dtypes: category(6), float64(3), int64(2)\n",
      "memory usage: 30.1 KB\n"
     ]
    }
   ],
   "source": [
    "X_train.info()"
   ]
  },
  {
   "cell_type": "markdown",
   "metadata": {},
   "source": [
    "While some features are numeric, some have been tagged as `category`. These\n",
    "features need to be encoded in a proper way such that our random forest can\n",
    "deal with them. The simplest solution is to use an `OrdinalEncoder`.\n",
    "Regarding, the numerical features, we don't need to do anything. Thus, we\n",
    "will create a preprocessing steps to take care about this encoding."
   ]
  },
  {
   "cell_type": "code",
   "execution_count": 32,
   "metadata": {},
   "outputs": [
    {
     "data": {
      "text/html": [
       "<div>\n",
       "<style scoped>\n",
       "    .dataframe tbody tr th:only-of-type {\n",
       "        vertical-align: middle;\n",
       "    }\n",
       "\n",
       "    .dataframe tbody tr th {\n",
       "        vertical-align: top;\n",
       "    }\n",
       "\n",
       "    .dataframe thead th {\n",
       "        text-align: right;\n",
       "    }\n",
       "</style>\n",
       "<table border=\"1\" class=\"dataframe\">\n",
       "  <thead>\n",
       "    <tr style=\"text-align: right;\">\n",
       "      <th></th>\n",
       "      <th>season</th>\n",
       "      <th>month</th>\n",
       "      <th>holiday</th>\n",
       "      <th>weekday</th>\n",
       "      <th>workingday</th>\n",
       "      <th>weathersit</th>\n",
       "      <th>year</th>\n",
       "      <th>temperature</th>\n",
       "      <th>humidity</th>\n",
       "      <th>windspeed</th>\n",
       "      <th>days since 2011</th>\n",
       "    </tr>\n",
       "  </thead>\n",
       "  <tbody>\n",
       "    <tr>\n",
       "      <th>0</th>\n",
       "      <td>2.0</td>\n",
       "      <td>7.0</td>\n",
       "      <td>1.0</td>\n",
       "      <td>6.0</td>\n",
       "      <td>1.0</td>\n",
       "      <td>0.0</td>\n",
       "      <td>2012.0</td>\n",
       "      <td>14.755849</td>\n",
       "      <td>48.1250</td>\n",
       "      <td>19.541957</td>\n",
       "      <td>452.0</td>\n",
       "    </tr>\n",
       "    <tr>\n",
       "      <th>1</th>\n",
       "      <td>3.0</td>\n",
       "      <td>2.0</td>\n",
       "      <td>1.0</td>\n",
       "      <td>3.0</td>\n",
       "      <td>0.0</td>\n",
       "      <td>0.0</td>\n",
       "      <td>2011.0</td>\n",
       "      <td>7.549151</td>\n",
       "      <td>77.5833</td>\n",
       "      <td>5.625206</td>\n",
       "      <td>337.0</td>\n",
       "    </tr>\n",
       "    <tr>\n",
       "      <th>2</th>\n",
       "      <td>2.0</td>\n",
       "      <td>8.0</td>\n",
       "      <td>1.0</td>\n",
       "      <td>4.0</td>\n",
       "      <td>1.0</td>\n",
       "      <td>0.0</td>\n",
       "      <td>2012.0</td>\n",
       "      <td>22.785000</td>\n",
       "      <td>71.6667</td>\n",
       "      <td>11.584032</td>\n",
       "      <td>509.0</td>\n",
       "    </tr>\n",
       "    <tr>\n",
       "      <th>3</th>\n",
       "      <td>1.0</td>\n",
       "      <td>7.0</td>\n",
       "      <td>1.0</td>\n",
       "      <td>2.0</td>\n",
       "      <td>0.0</td>\n",
       "      <td>0.0</td>\n",
       "      <td>2011.0</td>\n",
       "      <td>14.207500</td>\n",
       "      <td>37.9167</td>\n",
       "      <td>24.667189</td>\n",
       "      <td>77.0</td>\n",
       "    </tr>\n",
       "    <tr>\n",
       "      <th>4</th>\n",
       "      <td>2.0</td>\n",
       "      <td>7.0</td>\n",
       "      <td>1.0</td>\n",
       "      <td>5.0</td>\n",
       "      <td>1.0</td>\n",
       "      <td>0.0</td>\n",
       "      <td>2012.0</td>\n",
       "      <td>7.196651</td>\n",
       "      <td>29.0000</td>\n",
       "      <td>12.541864</td>\n",
       "      <td>451.0</td>\n",
       "    </tr>\n",
       "  </tbody>\n",
       "</table>\n",
       "</div>"
      ],
      "text/plain": [
       "   season  month  holiday  weekday  workingday  weathersit    year  \\\n",
       "0     2.0    7.0      1.0      6.0         1.0         0.0  2012.0   \n",
       "1     3.0    2.0      1.0      3.0         0.0         0.0  2011.0   \n",
       "2     2.0    8.0      1.0      4.0         1.0         0.0  2012.0   \n",
       "3     1.0    7.0      1.0      2.0         0.0         0.0  2011.0   \n",
       "4     2.0    7.0      1.0      5.0         1.0         0.0  2012.0   \n",
       "\n",
       "   temperature  humidity  windspeed  days since 2011  \n",
       "0    14.755849   48.1250  19.541957            452.0  \n",
       "1     7.549151   77.5833   5.625206            337.0  \n",
       "2    22.785000   71.6667  11.584032            509.0  \n",
       "3    14.207500   37.9167  24.667189             77.0  \n",
       "4     7.196651   29.0000  12.541864            451.0  "
      ]
     },
     "execution_count": 32,
     "metadata": {},
     "output_type": "execute_result"
    }
   ],
   "source": [
    "from sklearn.compose import make_column_transformer\n",
    "from sklearn.compose import make_column_selector as selector\n",
    "from sklearn.preprocessing import OrdinalEncoder\n",
    "\n",
    "categorical_selector = selector(dtype_include=\"category\")\n",
    "preprocessor = make_column_transformer(\n",
    "    (OrdinalEncoder(), categorical_selector),\n",
    "    remainder=\"passthrough\",\n",
    ")\n",
    "\n",
    "X_train_preprocessed = pd.DataFrame(\n",
    "    preprocessor.fit_transform(X_train),\n",
    "    columns=(\n",
    "        categorical_selector(X_train) +\n",
    "        [col for col in X_train.columns\n",
    "         if col not in categorical_selector(X_train)]\n",
    "    )\n",
    ")\n",
    "X_train_preprocessed.head()"
   ]
  },
  {
   "cell_type": "markdown",
   "metadata": {},
   "source": [
    "Just to have some insights about the preprocessing, we manually preprocessed\n",
    "the training data and we can observe that the original strings were encoded\n",
    "with numbers. We can now create our model."
   ]
  },
  {
   "cell_type": "code",
   "execution_count": 33,
   "metadata": {},
   "outputs": [
    {
     "data": {
      "text/plain": [
       "Pipeline(steps=[('columntransformer',\n",
       "                 ColumnTransformer(remainder='passthrough',\n",
       "                                   transformers=[('ordinalencoder',\n",
       "                                                  OrdinalEncoder(),\n",
       "                                                  <sklearn.compose._column_transformer.make_column_selector object at 0x7f82372ec490>)])),\n",
       "                ('randomforestregressor', RandomForestRegressor())])"
      ]
     },
     "execution_count": 33,
     "metadata": {},
     "output_type": "execute_result"
    }
   ],
   "source": [
    "from sklearn.pipeline import make_pipeline\n",
    "from sklearn.ensemble import RandomForestRegressor\n",
    "\n",
    "regressor = make_pipeline(preprocessor, RandomForestRegressor())\n",
    "regressor.fit(X_train, y_train)"
   ]
  },
  {
   "cell_type": "markdown",
   "metadata": {},
   "source": [
    "As for classifiers, regressors have a `score` method which will compute the\n",
    ":math:`R^2` score (also known as the coefficient of determination) by\n",
    "default:"
   ]
  },
  {
   "cell_type": "code",
   "execution_count": 34,
   "metadata": {},
   "outputs": [
    {
     "data": {
      "text/plain": [
       "0.8982226422247461"
      ]
     },
     "execution_count": 34,
     "metadata": {},
     "output_type": "execute_result"
    }
   ],
   "source": [
    "regressor.score(X_test, y_test)"
   ]
  },
  {
   "cell_type": "markdown",
   "metadata": {},
   "source": [
    "The :math:`R^2` score represents the proportion of variance of the target\n",
    "explained by the independent variables in the model. The best score possible\n",
    "is 1 but there is no lower bound. However, a model which would predict the\n",
    "expected value of the target would get a score of 0."
   ]
  },
  {
   "cell_type": "code",
   "execution_count": 35,
   "metadata": {},
   "outputs": [
    {
     "data": {
      "text/plain": [
       "-8.48919596840858e-08"
      ]
     },
     "execution_count": 35,
     "metadata": {},
     "output_type": "execute_result"
    }
   ],
   "source": [
    "from sklearn.dummy import DummyRegressor\n",
    "\n",
    "dummy_regressor = DummyRegressor(strategy=\"mean\")\n",
    "dummy_regressor.fit(X_train, y_train).score(X_test, y_test)"
   ]
  },
  {
   "cell_type": "markdown",
   "metadata": {},
   "source": [
    "The :math:`R^2` score gives insights regarding the goodness of fit of the\n",
    "model. However, this score cannot be compared from one dataset to another and\n",
    "the value obtained does not have a meaningful interpretation regarding the\n",
    "original unit of the target. If we want to get such interpretable score, we\n",
    "will be interested into the median or mean absolute error."
   ]
  },
  {
   "cell_type": "code",
   "execution_count": 36,
   "metadata": {},
   "outputs": [
    {
     "name": "stdout",
     "output_type": "stream",
     "text": [
      "Mean absolute error: 505\n"
     ]
    }
   ],
   "source": [
    "from sklearn.metrics import mean_absolute_error\n",
    "\n",
    "y_pred = regressor.predict(X_test)\n",
    "print(\n",
    "    f\"Mean absolute error: {mean_absolute_error(y_test, y_pred):.0f}\"\n",
    ")"
   ]
  },
  {
   "cell_type": "markdown",
   "metadata": {},
   "source": [
    "By computing the mean absolute error, we can interpret that our model is\n",
    "predicting in average 507 bike rentals away from the truth. The mean can be\n",
    "impacted by large error while for some application, we would like to discard\n",
    "them and we can in this case opt for the median absolute error."
   ]
  },
  {
   "cell_type": "code",
   "execution_count": 37,
   "metadata": {},
   "outputs": [
    {
     "name": "stdout",
     "output_type": "stream",
     "text": [
      "Median absolute error: 385\n"
     ]
    }
   ],
   "source": [
    "from sklearn.metrics import median_absolute_error\n",
    "\n",
    "print(\n",
    "    f\"Median absolute error: {median_absolute_error(y_test, y_pred):.0f}\"\n",
    ")"
   ]
  },
  {
   "cell_type": "markdown",
   "metadata": {},
   "source": [
    "In this case, our model make an error of 405 bikes.\n",
    "FIXME: **not sure how to introduce the `mean_squared_error`.**"
   ]
  },
  {
   "cell_type": "markdown",
   "metadata": {},
   "source": [
    "In addition of metrics, we can visually represent the results by plotting\n",
    "the predicted values versus the true values."
   ]
  },
  {
   "cell_type": "code",
   "execution_count": 38,
   "metadata": {},
   "outputs": [
    {
     "data": {
      "image/png": "[encoded data removed]",
      "text/plain": [
       "<Figure size 432x288 with 1 Axes>"
      ]
     },
     "metadata": {
      "filenames": {
       "image/png": "/home/runner/work/scikit-learn-mooc/scikit-learn-mooc/jupyter-book/_build/jupyter_execute/metrics_69_0.png"
      },
      "needs_background": "light"
     },
     "output_type": "display_data"
    }
   ],
   "source": [
    "def plot_predicted_vs_actual(y_true, y_pred, title=None):\n",
    "    plt.scatter(y_true, y_pred)\n",
    "\n",
    "    max_value = np.max([y_true.max(), y_pred.max()])\n",
    "    plt.plot(\n",
    "        [0, max_value],\n",
    "        [0, max_value],\n",
    "        color=\"tab:orange\",\n",
    "        linewidth=3,\n",
    "        label=\"Perfect fit\",\n",
    "    )\n",
    "\n",
    "    plt.xlabel(\"True values\")\n",
    "    plt.ylabel(\"Predicted values\")\n",
    "    plt.axis(\"square\")\n",
    "    plt.legend()\n",
    "    if title is not None:\n",
    "        plt.title(title)\n",
    "\n",
    "\n",
    "plot_predicted_vs_actual(y_test, y_pred)"
   ]
  },
  {
   "cell_type": "markdown",
   "metadata": {},
   "source": [
    "On this plot, the perfect prediction will lay on the diagonal line. This plot\n",
    "allows to detect if the model have a specific regime where our model does not\n",
    "work as expected or has some kinda of bias.\n",
    "\n",
    "Let's take an example using the house prices in Ames."
   ]
  },
  {
   "cell_type": "code",
   "execution_count": 39,
   "metadata": {},
   "outputs": [],
   "source": [
    "from sklearn.preprocessing import StandardScaler\n",
    "from sklearn.linear_model import RidgeCV\n",
    "\n",
    "X, y = fetch_openml(name=\"house_prices\", as_frame=True, return_X_y=True)\n",
    "X = X.select_dtypes(np.number).drop(\n",
    "    columns=[\"LotFrontage\", \"GarageYrBlt\", \"MasVnrArea\"]\n",
    ")\n",
    "\n",
    "X_train, X_test, y_train, y_test = train_test_split(X, y, random_state=1)"
   ]
  },
  {
   "cell_type": "markdown",
   "metadata": {},
   "source": [
    "We will fit a ridge regressor on the data and plot the prediction versus the\n",
    "actual values."
   ]
  },
  {
   "cell_type": "code",
   "execution_count": 40,
   "metadata": {},
   "outputs": [
    {
     "data": {
      "image/png": "[encoded data removed]",
      "text/plain": [
       "<Figure size 432x288 with 1 Axes>"
      ]
     },
     "metadata": {
      "filenames": {
       "image/png": "/home/runner/work/scikit-learn-mooc/scikit-learn-mooc/jupyter-book/_build/jupyter_execute/metrics_73_0.png"
      },
      "needs_background": "light"
     },
     "output_type": "display_data"
    }
   ],
   "source": [
    "model = make_pipeline(StandardScaler(), RidgeCV())\n",
    "model.fit(X_train, y_train)\n",
    "y_pred = model.predict(X_test)\n",
    "\n",
    "plot_predicted_vs_actual(y_test, y_pred, title=\"House prices in Ames\")"
   ]
  },
  {
   "cell_type": "markdown",
   "metadata": {},
   "source": [
    "On this plot, we see that for the large \"True values\", our model tend to\n",
    "under-estimate the price of the house. Typically, this issue arises when\n",
    "the target to predict does not follow a normal distribution and the model\n",
    "could benefit of an intermediate target transformation."
   ]
  },
  {
   "cell_type": "code",
   "execution_count": 41,
   "metadata": {},
   "outputs": [
    {
     "data": {
      "image/png": "[encoded data removed]",
      "text/plain": [
       "<Figure size 432x288 with 1 Axes>"
      ]
     },
     "metadata": {
      "filenames": {
       "image/png": "/home/runner/work/scikit-learn-mooc/scikit-learn-mooc/jupyter-book/_build/jupyter_execute/metrics_75_0.png"
      },
      "needs_background": "light"
     },
     "output_type": "display_data"
    }
   ],
   "source": [
    "from sklearn.preprocessing import QuantileTransformer\n",
    "from sklearn.compose import TransformedTargetRegressor\n",
    "\n",
    "model_transformed_target = TransformedTargetRegressor(\n",
    "    regressor=model,\n",
    "    transformer=QuantileTransformer(\n",
    "        n_quantiles=900, output_distribution=\"normal\"\n",
    "    ),\n",
    ")\n",
    "model_transformed_target.fit(X_train, y_train)\n",
    "y_pred = model_transformed_target.predict(X_test)\n",
    "\n",
    "plot_predicted_vs_actual(y_test, y_pred, title=\"House prices in Ames\")"
   ]
  },
  {
   "cell_type": "markdown",
   "metadata": {},
   "source": [
    "Thus, once we transformed the target, we see that we corrected some of the\n",
    "high values.\n",
    "\n",
    "## Summary\n",
    "In this notebook, we presented the metrics and plots useful to evaluate and\n",
    "get insights about models. We both focus on regression and classification\n",
    "problems."
   ]
  }
 ],
 "metadata": {
  "jupytext": {
   "cell_metadata_filter": "-all",
   "text_representation": {
    "extension": ".md",
    "format_name": "myst",
    "format_version": 0.12,
    "jupytext_version": "1.6.0"
   }
  },
  "kernelspec": {
   "display_name": "Python 3",
   "language": "python",
   "name": "python3"
  },
  "language_info": {
   "codemirror_mode": {
    "name": "ipython",
    "version": 3
   },
   "file_extension": ".py",
   "mimetype": "text/x-python",
   "name": "python",
   "nbconvert_exporter": "python",
   "pygments_lexer": "ipython3",
   "version": "3.7.9"
  },
  "source_map": [
   13,
   17,
   35,
   42,
   56,
   64,
   70,
   76,
   81,
   91,
   94,
   102,
   105,
   111,
   113,
   122,
   126,
   132,
   136,
   141,
   143,
   153,
   157,
   185,
   192,
   202,
   206,
   217,
   223,
   231,
   238,
   251,
   255,
   270,
   278,
   283,
   290,
   300,
   329,
   350,
   374,
   389,
   429,
   467,
   515,
   534,
   541,
   543,
   551,
   571,
   575,
   580,
   591,
   597,
   603,
   605,
   613,
   633,
   639,
   645,
   651,
   653,
   660,
   665,
   673,
   680,
   687,
   693,
   698,
   703,
   725,
   733,
   743,
   748,
   754,
   761,
   775
  ],
  "widgets": {
   "application/vnd.jupyter.widget-state+json": {
    "state": {
     "1a33d4b570b94600af8b281b768b0d73": {
      "model_module": "@jupyter-widgets/base",
      "model_module_version": "1.2.0",
      "model_name": "LayoutModel",
      "state": {
       "_model_module": "@jupyter-widgets/base",
       "_model_module_version": "1.2.0",
       "_model_name": "LayoutModel",
       "_view_count": null,
       "_view_module": "@jupyter-widgets/base",
       "_view_module_version": "1.2.0",
       "_view_name": "LayoutView",
       "align_content": null,
       "align_items": null,
       "align_self": null,
       "border": null,
       "bottom": null,
       "display": null,
       "flex": null,
       "flex_flow": null,
       "grid_area": null,
       "grid_auto_columns": null,
       "grid_auto_flow": null,
       "grid_auto_rows": null,
       "grid_column": null,
       "grid_gap": null,
       "grid_row": null,
       "grid_template_areas": null,
       "grid_template_columns": null,
       "grid_template_rows": null,
       "height": null,
       "justify_content": null,
       "justify_items": null,
       "left": null,
       "margin": null,
       "max_height": null,
       "max_width": null,
       "min_height": null,
       "min_width": null,
       "object_fit": null,
       "object_position": null,
       "order": null,
       "overflow": null,
       "overflow_x": null,
       "overflow_y": null,
       "padding": null,
       "right": null,
       "top": null,
       "visibility": null,
       "width": null
      }
     },
     "2977f305938b4d73a21813d87b4efc52": {
      "model_module": "@jupyter-widgets/controls",
      "model_module_version": "1.5.0",
      "model_name": "SliderStyleModel",
      "state": {
       "_model_module": "@jupyter-widgets/controls",
       "_model_module_version": "1.5.0",
       "_model_name": "SliderStyleModel",
       "_view_count": null,
       "_view_module": "@jupyter-widgets/base",
       "_view_module_version": "1.2.0",
       "_view_name": "StyleView",
       "description_width": "",
       "handle_color": null
      }
     },
     "2b2de9043f1b4f159ea1e7ca6606428a": {
      "model_module": "@jupyter-widgets/base",
      "model_module_version": "1.2.0",
      "model_name": "LayoutModel",
      "state": {
       "_model_module": "@jupyter-widgets/base",
       "_model_module_version": "1.2.0",
       "_model_name": "LayoutModel",
       "_view_count": null,
       "_view_module": "@jupyter-widgets/base",
       "_view_module_version": "1.2.0",
       "_view_name": "LayoutView",
       "align_content": null,
       "align_items": null,
       "align_self": null,
       "border": null,
       "bottom": null,
       "display": null,
       "flex": null,
       "flex_flow": null,
       "grid_area": null,
       "grid_auto_columns": null,
       "grid_auto_flow": null,
       "grid_auto_rows": null,
       "grid_column": null,
       "grid_gap": null,
       "grid_row": null,
       "grid_template_areas": null,
       "grid_template_columns": null,
       "grid_template_rows": null,
       "height": null,
       "justify_content": null,
       "justify_items": null,
       "left": null,
       "margin": null,
       "max_height": null,
       "max_width": null,
       "min_height": null,
       "min_width": null,
       "object_fit": null,
       "object_position": null,
       "order": null,
       "overflow": null,
       "overflow_x": null,
       "overflow_y": null,
       "padding": null,
       "right": null,
       "top": null,
       "visibility": null,
       "width": null
      }
     },
     "6c804ecb60ac47f5ae4efe728276afb6": {
      "model_module": "@jupyter-widgets/controls",
      "model_module_version": "1.5.0",
      "model_name": "FloatSliderModel",
      "state": {
       "_dom_classes": [],
       "_model_module": "@jupyter-widgets/controls",
       "_model_module_version": "1.5.0",
       "_model_name": "FloatSliderModel",
       "_view_count": null,
       "_view_module": "@jupyter-widgets/controls",
       "_view_module_version": "1.5.0",
       "_view_name": "FloatSliderView",
       "continuous_update": true,
       "description": "threshold",
       "description_tooltip": null,
       "disabled": false,
       "layout": "IPY_MODEL_2b2de9043f1b4f159ea1e7ca6606428a",
       "max": 1.0,
       "min": 0.0,
       "orientation": "horizontal",
       "readout": true,
       "readout_format": ".2f",
       "step": 0.01,
       "style": "IPY_MODEL_2977f305938b4d73a21813d87b4efc52",
       "value": 0.5
      }
     },
     "e1a7928eea36472092621c3056f755c8": {
      "model_module": "@jupyter-widgets/output",
      "model_module_version": "1.0.0",
      "model_name": "OutputModel",
      "state": {
       "_dom_classes": [],
       "_model_module": "@jupyter-widgets/output",
       "_model_module_version": "1.0.0",
       "_model_name": "OutputModel",
       "_view_count": null,
       "_view_module": "@jupyter-widgets/output",
       "_view_module_version": "1.0.0",
       "_view_name": "OutputView",
       "layout": "IPY_MODEL_1a33d4b570b94600af8b281b768b0d73",
       "msg_id": "",
       "outputs": [
        {
         "data": {
          "image/png": "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\n",
          "text/plain": "<Figure size 1512x432 with 3 Axes>"
         },
         "metadata": {
          "needs_background": "light"
         },
         "output_type": "display_data"
        }
       ]
      }
     },
     "f25629b39b704c37bac9cb5468abe171": {
      "model_module": "@jupyter-widgets/controls",
      "model_module_version": "1.5.0",
      "model_name": "VBoxModel",
      "state": {
       "_dom_classes": [
        "widget-interact"
       ],
       "_model_module": "@jupyter-widgets/controls",
       "_model_module_version": "1.5.0",
       "_model_name": "VBoxModel",
       "_view_count": null,
       "_view_module": "@jupyter-widgets/controls",
       "_view_module_version": "1.5.0",
       "_view_name": "VBoxView",
       "box_style": "",
       "children": [
        "IPY_MODEL_6c804ecb60ac47f5ae4efe728276afb6",
        "IPY_MODEL_e1a7928eea36472092621c3056f755c8"
       ],
       "layout": "IPY_MODEL_f3266791466c4e32802b06081ef65ee8"
      }
     },
     "f3266791466c4e32802b06081ef65ee8": {
      "model_module": "@jupyter-widgets/base",
      "model_module_version": "1.2.0",
      "model_name": "LayoutModel",
      "state": {
       "_model_module": "@jupyter-widgets/base",
       "_model_module_version": "1.2.0",
       "_model_name": "LayoutModel",
       "_view_count": null,
       "_view_module": "@jupyter-widgets/base",
       "_view_module_version": "1.2.0",
       "_view_name": "LayoutView",
       "align_content": null,
       "align_items": null,
       "align_self": null,
       "border": null,
       "bottom": null,
       "display": null,
       "flex": null,
       "flex_flow": null,
       "grid_area": null,
       "grid_auto_columns": null,
       "grid_auto_flow": null,
       "grid_auto_rows": null,
       "grid_column": null,
       "grid_gap": null,
       "grid_row": null,
       "grid_template_areas": null,
       "grid_template_columns": null,
       "grid_template_rows": null,
       "height": null,
       "justify_content": null,
       "justify_items": null,
       "left": null,
       "margin": null,
       "max_height": null,
       "max_width": null,
       "min_height": null,
       "min_width": null,
       "object_fit": null,
       "object_position": null,
       "order": null,
       "overflow": null,
       "overflow_x": null,
       "overflow_y": null,
       "padding": null,
       "right": null,
       "top": null,
       "visibility": null,
       "width": null
      }
     }
    },
    "version_major": 2,
    "version_minor": 0
   }
  }
 },
 "nbformat": 4,
 "nbformat_minor": 4
}